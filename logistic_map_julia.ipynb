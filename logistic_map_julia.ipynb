{
 "cells": [
  {
   "cell_type": "code",
   "execution_count": 3,
   "metadata": {},
   "outputs": [],
   "source": [
    "using Plots\n",
    "using PlotThemes"
   ]
  },
  {
   "cell_type": "markdown",
   "metadata": {},
   "source": [
    "# Logistic map\n",
    "\n",
    "## $x_{n+1} = r x_{n}  (1-x_{n})$"
   ]
  },
  {
   "cell_type": "code",
   "execution_count": 92,
   "metadata": {},
   "outputs": [
    {
     "data": {
      "text/plain": [
       "f_map (generic function with 1 method)"
      ]
     },
     "execution_count": 92,
     "metadata": {},
     "output_type": "execute_result"
    }
   ],
   "source": [
    "function f_map(r,n)\n",
    "\n",
    "    x = LinRange(0, 1, n)#[i*10^(-n) for i=1:10^n]\n",
    "    for i=1:1000\n",
    "        x = r*(x - x.*x)\n",
    "    end\n",
    "    return x\n",
    "end"
   ]
  },
  {
   "cell_type": "code",
   "execution_count": 93,
   "metadata": {},
   "outputs": [],
   "source": [
    "N = 300\n",
    "\n",
    "r = LinRange(3.5,4,10000)\n",
    "\n",
    "Y = Vector{Float32}[]\n",
    "\n",
    "for p in r\n",
    "    push!( Y, f_map(p,N) )\n",
    "end"
   ]
  },
  {
   "cell_type": "code",
   "execution_count": 96,
   "metadata": {},
   "outputs": [],
   "source": [
    "Plots.theme(:dark)\n",
    "\n",
    "p = plot(0,0)\n",
    "\n",
    "for i=1:N\n",
    "    m = zeros(size(Y)[1])\n",
    "    for j=1:size(Y)[1]\n",
    "        m[j] = Y[j][i]\n",
    "    end\n",
    "    scatter!(r,m,markersize=0.2,color=\"white\",alpha = 0.3,size = (4000, 2000),legend = false)\n",
    "end\n",
    "savefig(\"plot_log_map.png\") \n",
    "\n",
    "#@show p"
   ]
  },
  {
   "cell_type": "markdown",
   "metadata": {},
   "source": [
    "![Plot logistic map](plot_log_map.png)"
   ]
  },
  {
   "cell_type": "markdown",
   "metadata": {},
   "source": [
    "# Tent map\n",
    "\n",
    "## $x_{n+1} = r(1/2-|1/2-x_{n}|) $"
   ]
  },
  {
   "cell_type": "code",
   "execution_count": 75,
   "metadata": {},
   "outputs": [
    {
     "data": {
      "text/plain": [
       "tent_map (generic function with 1 method)"
      ]
     },
     "execution_count": 75,
     "metadata": {},
     "output_type": "execute_result"
    }
   ],
   "source": [
    "function tent_map(r,n)\n",
    "    x = LinRange(0,1,n)\n",
    "    for i=1:1000\n",
    "        x = r*( 0.5.*ones(size(x)[1]) - abs.( 0.5.*ones(size(x)[1])-x) )  # r(1 - |1 - 2x|)\n",
    "    end\n",
    "    return x\n",
    "end"
   ]
  },
  {
   "cell_type": "code",
   "execution_count": 76,
   "metadata": {},
   "outputs": [],
   "source": [
    "M = 300\n",
    "\n",
    "r_tent = LinRange(1,2,10000)\n",
    "\n",
    "Y_tent = Vector{Float32}[]\n",
    "\n",
    "for p in r_tent\n",
    "    push!( Y_tent, tent_map(p,M) )\n",
    "end"
   ]
  },
  {
   "cell_type": "code",
   "execution_count": 77,
   "metadata": {},
   "outputs": [],
   "source": [
    "Plots.theme(:dark)\n",
    "\n",
    "p = plot(0,0)\n",
    "\n",
    "for i=1:M\n",
    "    m = zeros(size(Y_tent)[1])\n",
    "    for j=1:size(Y_tent)[1]\n",
    "        m[j] = Y_tent[j][i]\n",
    "    end\n",
    "    scatter!(r_tent,m,markersize=0.2,color=\"white\",alpha = 0.2,size = (4000, 2000),legend = false,ylims=(0,1))\n",
    "end\n",
    "savefig(\"plot_tent_map.png\") \n"
   ]
  },
  {
   "cell_type": "markdown",
   "metadata": {},
   "source": [
    "![Plot tent map](plot_tent_map2.png)"
   ]
  },
  {
   "cell_type": "markdown",
   "metadata": {},
   "source": [
    "# Gauss map\n",
    "\n",
    "## $x_{n+1} = e^{-\\alpha x_{n}^2} + \\beta $ "
   ]
  },
  {
   "cell_type": "code",
   "execution_count": 86,
   "metadata": {},
   "outputs": [
    {
     "data": {
      "text/plain": [
       "gauss_map (generic function with 1 method)"
      ]
     },
     "execution_count": 86,
     "metadata": {},
     "output_type": "execute_result"
    }
   ],
   "source": [
    "function gauss_map(a,b,n)\n",
    "    x = LinRange(-1,1.5,n)\n",
    "    for i=1:1000\n",
    "        x = exp.(-a*x.^2) .+ b  # exp(-ax^2) + b\n",
    "    end\n",
    "    return x\n",
    "end"
   ]
  },
  {
   "cell_type": "code",
   "execution_count": 90,
   "metadata": {},
   "outputs": [],
   "source": [
    "M = 300\n",
    "\n",
    "b_gauss = LinRange(-1,1,10000)\n",
    "\n",
    "Y_gauss = Vector{Float32}[]\n",
    "\n",
    "for b in b_gauss\n",
    "    push!( Y_gauss, gauss_map(6.2,b,M) )\n",
    "end"
   ]
  },
  {
   "cell_type": "code",
   "execution_count": 91,
   "metadata": {},
   "outputs": [],
   "source": [
    "Plots.theme(:dark)\n",
    "\n",
    "p = plot(0,0)\n",
    "\n",
    "for i=1:M\n",
    "    m = zeros(size(Y_gauss)[1])\n",
    "    for j=1:size(Y_gauss)[1]\n",
    "        m[j] = Y_gauss[j][i]\n",
    "    end\n",
    "    scatter!(b_gauss,m,markersize=0.2,color=\"white\",alpha = 0.2,size = (4000, 2000),legend = false,ylims=(-1,1), xlim=(-1,1))\n",
    "end\n",
    "savefig(\"plot_gauss_map.png\") "
   ]
  },
  {
   "cell_type": "markdown",
   "metadata": {},
   "source": [
    "![Plot Gauss map](plot_gauss_map.png)"
   ]
  }
 ],
 "metadata": {
  "kernelspec": {
   "display_name": "Julia 1.4.1",
   "language": "julia",
   "name": "julia-1.4"
  },
  "language_info": {
   "file_extension": ".jl",
   "mimetype": "application/julia",
   "name": "julia",
   "version": "1.4.1"
  },
  "orig_nbformat": 4
 },
 "nbformat": 4,
 "nbformat_minor": 2
}
