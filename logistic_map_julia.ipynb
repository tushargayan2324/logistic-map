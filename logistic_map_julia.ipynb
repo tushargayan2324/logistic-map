{
 "cells": [
  {
   "cell_type": "code",
   "execution_count": 6,
   "metadata": {},
   "outputs": [],
   "source": [
    "using Plots\n",
    "using PlotThemes"
   ]
  },
  {
   "cell_type": "code",
   "execution_count": 7,
   "metadata": {},
   "outputs": [
    {
     "data": {
      "text/plain": [
       "f_map (generic function with 1 method)"
      ]
     },
     "execution_count": 7,
     "metadata": {},
     "output_type": "execute_result"
    }
   ],
   "source": [
    "function f_map(r,n)\n",
    "\n",
    "    x = LinRange(0, 1, n)#[i*10^(-n) for i=1:10^n]\n",
    "    for i=1:1000\n",
    "        x = r*(x - x.*x)\n",
    "    end\n",
    "    return x\n",
    "end"
   ]
  },
  {
   "cell_type": "code",
   "execution_count": 8,
   "metadata": {},
   "outputs": [],
   "source": [
    "N = 100\n",
    "\n",
    "r = LinRange(3.2,4,3000)\n",
    "\n",
    "Y = Vector{Float32}[]\n",
    "\n",
    "for p in r\n",
    "    push!( Y, f_map(p,N) )\n",
    "end"
   ]
  },
  {
   "cell_type": "code",
   "execution_count": 9,
   "metadata": {},
   "outputs": [],
   "source": [
    "\n",
    "Plots.theme(:dark)\n",
    "\n",
    "p = plot(0,0)\n",
    "\n",
    "for i=1:N\n",
    "    m = zeros(size(Y)[1])\n",
    "    for j=1:size(Y)[1]\n",
    "        m[j] = Y[j][i]\n",
    "    end\n",
    "    scatter!(r,m,markersize=0.2,color=\"white\",alpha = 0.5,size = (1000, 500),legend = false)\n",
    "end\n",
    "savefig(\"plot_log_map.png\") \n",
    "\n",
    "#@show p"
   ]
  }
 ],
 "metadata": {
  "kernelspec": {
   "display_name": "Julia 1.4.1",
   "language": "julia",
   "name": "julia-1.4"
  },
  "language_info": {
   "file_extension": ".jl",
   "mimetype": "application/julia",
   "name": "julia",
   "version": "1.4.1"
  },
  "orig_nbformat": 4
 },
 "nbformat": 4,
 "nbformat_minor": 2
}
